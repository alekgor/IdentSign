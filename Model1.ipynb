{
  "nbformat": 4,
  "nbformat_minor": 0,
  "metadata": {
    "colab": {
      "name": "Model1.ipynb",
      "provenance": [],
      "collapsed_sections": []
    },
    "kernelspec": {
      "name": "python3",
      "display_name": "Python 3"
    }
  },
  "cells": [
    {
      "cell_type": "code",
      "metadata": {
        "id": "5rDgdWEQRg6S",
        "colab_type": "code",
        "colab": {}
      },
      "source": [
        "# Подключение и монтирование диска в GoogleColab\n",
        "from google.colab import drive\n",
        "drive.mount('/content/drive/')\n",
        "\n",
        "import os\n",
        "os.chdir(\"/content/drive/My Drive/Signature\")\n",
        "\n",
        "\n",
        "os.environ[\"CUDA_DEVICE_ORDER\"]=\"PCI_BUS_ID\"\n",
        "os.environ[\"CUDA_VISIBLE_DEVICES\"]=\"0\"\n",
        "from tensorflow.python.client import device_lib"
      ],
      "execution_count": null,
      "outputs": []
    },
    {
      "cell_type": "code",
      "metadata": {
        "id": "eXzvkCBpRyzq",
        "colab_type": "code",
        "colab": {}
      },
      "source": [
        "# Импорт необходимых библиотек \n",
        "from keras.preprocessing.image import ImageDataGenerator\n",
        "from keras import models\n",
        "from keras import layers\n",
        "import PIL\n",
        "import matplotlib.pyplot as plt\n",
        "import numpy as np\n",
        "import tensorflow as tf\n",
        "import skimage"
      ],
      "execution_count": null,
      "outputs": []
    },
    {
      "cell_type": "code",
      "metadata": {
        "id": "7YhC73LsRzD9",
        "colab_type": "code",
        "colab": {}
      },
      "source": [
        "# Глобальные переменные \n",
        "train_dir = 'data/train'\n",
        "val_dir = 'data/val'\n",
        "test_dir = 'data/test'\n",
        "img_width = 200\n",
        "img_height = 100\n",
        "input_shape = (img_height,img_width,1) # input_shape = (img_width,img_height,1)\n",
        "batch_size = 50\n",
        "target_size =  (img_height,img_width)"
      ],
      "execution_count": null,
      "outputs": []
    },
    {
      "cell_type": "code",
      "metadata": {
        "id": "UsunSA9ZRzPp",
        "colab_type": "code",
        "colab": {}
      },
      "source": [
        "# Инициализация модели\n",
        "model = models.Sequential()\n",
        "\n",
        "model.add(layers.Conv2D(filters=32, kernel_size=(2,2), activation='relu', input_shape=input_shape, padding='valid'))\n",
        "model.add(layers.MaxPooling2D((2,2)))\n",
        "\n",
        "model.add(layers.Conv2D(filters=64, kernel_size=(3,3), activation='relu', padding='valid'))\n",
        "model.add(layers.MaxPooling2D((2,2)))\n",
        "\n",
        "model.add(layers.Conv2D(filters=128,kernel_size=(3,3), activation='relu', padding='valid'))\n",
        "model.add(layers.MaxPooling2D((2,2)))\n",
        "\n",
        "model.add(layers.Conv2D(filters=128,kernel_size=(3,3), activation='relu', padding='valid'))\n",
        "model.add(layers.MaxPooling2D((2,2)))\n",
        "\n",
        "model.add(layers.Flatten())\n",
        "model.add(layers.Dense(512,activation='relu'))\n",
        "model.add(layers.Dropout(0.25)) # 0.1\n",
        "model.add(layers.Dense(51,activation='softmax'))\n",
        "# Вывод структуры модели\n",
        "model.summary()"
      ],
      "execution_count": null,
      "outputs": []
    },
    {
      "cell_type": "code",
      "metadata": {
        "id": "omdWO_T1RzMt",
        "colab_type": "code",
        "colab": {}
      },
      "source": [
        "# Компиляция модели\n",
        "model.compile(optimizer='rmsprop', # Алгоритм обратного распространения ошибки\n",
        "             loss='categorical_crossentropy', # Функция потерь - перекрестная энтропия\n",
        "             metrics = ['accuracy'])"
      ],
      "execution_count": null,
      "outputs": []
    },
    {
      "cell_type": "code",
      "metadata": {
        "id": "FJn74DuKSrLY",
        "colab_type": "code",
        "colab": {}
      },
      "source": [
        "# Функция предобработки\n",
        "def function(image):\n",
        "  image[:][:][image[:][:][:]>240] = 255 # Отсечение фона\n",
        "  image[:][:][:] -= 255 # Реверсия цвета так, чтобы 0.0-белый                \n",
        "  image[:][:][:] *= -1  \n",
        "  maximum = np.max(image) # Нормализация изображения \n",
        "  c = 255 / maximum\n",
        "  image[:][:][:] *= c\n",
        "\n",
        "  return image"
      ],
      "execution_count": null,
      "outputs": []
    },
    {
      "cell_type": "code",
      "metadata": {
        "id": "-pNiH0oHSrXJ",
        "colab_type": "code",
        "colab": {}
      },
      "source": [
        "# Датагены для обучения и проверки \n",
        "train_datagen = ImageDataGenerator(\n",
        "                                  rescale=1. / 255, # Масштабирование\n",
        "                                  rotation_range = 5, # Поворот\n",
        "                                  zoom_range=[1.3, 1.4],                                                                   \n",
        "                                  width_shift_range= [0,20], # Сдвиг по горизонтали \n",
        "                                  height_shift_range= [0,10], # Сдвиг по вертикали \n",
        "                                  preprocessing_function = function, # Функция предобработки\n",
        "                                  cval = 255.0, # Значения заполнения\n",
        "                                  fill_mode = 'constant' # Метод заполнения\n",
        "                                   )\n",
        "test_datagen = ImageDataGenerator(\n",
        "                                  rescale=1. / 255,  \n",
        "                                  zoom_range=[1.35, 1.35],\n",
        "                                  preprocessing_function = function,\n",
        "                                  cval = 255.0,\n",
        "                                  fill_mode = 'constant'\n",
        "                                   )"
      ],
      "execution_count": null,
      "outputs": []
    },
    {
      "cell_type": "code",
      "metadata": {
        "id": "mXDNSBg0Srla",
        "colab_type": "code",
        "colab": {}
      },
      "source": [
        "# Генераторы для обученя, проверки, и тестирования\n",
        "train_generator = train_datagen.flow_from_directory(\n",
        "    train_dir, \n",
        "    target_size = target_size,\n",
        "    batch_size = batch_size,\n",
        "    color_mode=\"grayscale\", # Вид изображения \n",
        "    class_mode='categorical') \n",
        "\n",
        "val_generator = test_datagen.flow_from_directory( \n",
        "    val_dir,\n",
        "    target_size = target_size,\n",
        "    batch_size = batch_size,\n",
        "    color_mode=\"grayscale\",\n",
        "    class_mode='categorical')\n",
        "\n",
        "test_generator = test_datagen.flow_from_directory(\n",
        "    test_dir,\n",
        "    target_size = target_size,\n",
        "    batch_size = batch_size,\n",
        "    color_mode=\"grayscale\",\n",
        "    class_mode='categorical',\n",
        "    )"
      ],
      "execution_count": null,
      "outputs": []
    },
    {
      "cell_type": "code",
      "metadata": {
        "id": "KajAmayFSrit",
        "colab_type": "code",
        "colab": {}
      },
      "source": [
        "# Метод для преждевременной остановки обучения\n",
        "from  keras.callbacks import Callback\n",
        "class EarlyStoppingByAccuracy(Callback):\n",
        "    def __init__(self, monitor='accuracy', value=1.00, verbose=0):\n",
        "        super(Callback, self).__init__()\n",
        "        self.monitor = monitor\n",
        "        self.value = value\n",
        "        self.verbose = verbose\n",
        "    def on_epoch_end(self, epoch, logs={}):\n",
        "      current = logs.get(self.monitor)\n",
        "      if current is None:\n",
        "          warnings.warn(\"Early stopping requires %s available!\" % self.monitor, RuntimeWarning)\n",
        "\n",
        "      if current >= self.value:\n",
        "          if self.verbose > 0:\n",
        "              print(\"Epoch %05d: early stopping THR\" % epoch)\n",
        "          self.model.stop_training = True\n",
        "\n",
        "# Обучение модели\n",
        "from PIL import  Image\n",
        "import keras.callbacks\n",
        "history = model.fit_generator(\n",
        "    train_generator,\n",
        "    callbacks = [ EarlyStoppingByAccuracy(monitor='val_accuracy', value=0.99, verbose=2)],\n",
        "    steps_per_epoch = count // batch_size, #count - общее кол-во изображений в обуч. наборе \n",
        "    epochs=50,\n",
        "    validation_data= val_generator,\n",
        "    validation_steps = 5)"
      ],
      "execution_count": null,
      "outputs": []
    },
    {
      "cell_type": "code",
      "metadata": {
        "id": "1JxdL0xralVI",
        "colab_type": "code",
        "colab": {}
      },
      "source": [
        "# Графики процесса обучения\n",
        "plt.style.use('ggplot')\n",
        "def plot_history(history):\n",
        "    acc = history.history['accuracy']\n",
        "    val_acc = history.history['val_accuracy']\n",
        "    loss = history.history['loss']\n",
        "    val_loss = history.history['val_loss']\n",
        "    x = range(1, len(acc) + 1)\n",
        "\n",
        "    plt.figure(figsize=(12, 4))\n",
        "    plt.subplot(1, 2, 1)\n",
        "    plt.plot(x, (acc), 'b', label='Точность на тренировочном наборе')\n",
        "    plt.plot(x, (val_acc), 'r', label='Точность на валидационном наборе')\n",
        "    plt.title('Тренировочная и валидационная точность')\n",
        "    plt.legend()\n",
        "    plt.subplot(1, 2, 2)\n",
        "    plt.plot(x, (loss), 'b', label='Потери при обучении')\n",
        "    plt.plot(x, (val_loss), 'r', label='Потери при валидации')\n",
        "    plt.title('Тренировочные и валидационные потери')\n",
        "    plt.legend()\n",
        "plot_history(history)    \n",
        "#Точность на тестовых \n",
        "scores = model.evaluate_generator(test_generator, 100//20)\n",
        "print(\"Аккуратность на тестовых данных: %.2f%%\" % (scores[1]*100))"
      ],
      "execution_count": null,
      "outputs": []
    },
    {
      "cell_type": "code",
      "metadata": {
        "id": "EQlNpnomSrcZ",
        "colab_type": "code",
        "colab": {}
      },
      "source": [
        "# Вывод изображения полученного train_generator\n",
        "i = 0 \n",
        "for batch in train_generator: #rofl_datagen.flow(x,batch_size=1):\n",
        "  plt.figure(i)\n",
        "  tensor_img = batch[0][0]\n",
        "  print(tensor_img.shape)\n",
        "  new_img = np.squeeze(tensor_img, axis=(2))\n",
        "  tensor_img = tensor_img.reshape((1,) + tensor_img.shape)\n",
        "  plt.figure(figsize=(10,20))\n",
        "  imgplot = plt.imshow(new_img,cmap='viridis')\n",
        "  i += 1\n",
        "  if i%1==0:\n",
        "    break\n",
        "plt.show()"
      ],
      "execution_count": null,
      "outputs": []
    },
    {
      "cell_type": "code",
      "metadata": {
        "id": "XC4EZobwU-RC",
        "colab_type": "code",
        "colab": {}
      },
      "source": [
        "# Визуализация работы слоев модели\n",
        "COUNT_LAYERS = 5 #  Кол-во слоев, которое надо вывести\n",
        "\n",
        "layer_outputs = [layer.output for layer in model.layers[:COUNT_LAYERS]] \n",
        "activation_model = models.Model(inputs=model.input, outputs=layer_outputs)\n",
        "activations = activation_model.predict(tensor_img) \n",
        "\n",
        "layer_names = []\n",
        "for layer in model.layers[:COUNT_LAYERS]:\n",
        "    layer_names.append(layer.name) # Названия слоев \n",
        "images_per_row = 5\n",
        "for layer_name, layer_activation in zip(layer_names, activations): # Отображение карт признаков\n",
        "    n_features = layer_activation.shape[-1] \n",
        "    height = layer_activation.shape[1]\n",
        "    width = layer_activation.shape[2]\n",
        "    n_cols = n_features // images_per_row \n",
        "    display_grid = np.zeros((height * n_cols, images_per_row * width))\n",
        "    for col in range(n_cols): \n",
        "        for row in range(images_per_row):\n",
        "            channel_image = layer_activation[0,\n",
        "                                             :, :,\n",
        "                                             col * images_per_row + row]\n",
        "            channel_image -= channel_image.mean()\n",
        "            channel_image /= channel_image.std()\n",
        "            channel_image *= 64\n",
        "            channel_image += 128\n",
        "            channel_image = np.clip(channel_image, 0, 255).astype('uint8')\n",
        "            display_grid[col * height : (col + 1) * height, \n",
        "                         row * width : (row + 1) * width] = channel_image\n",
        "    scale = 1. / (height-4)\n",
        "    plt.figure(figsize=(scale * display_grid.shape[1],\n",
        "                        scale * display_grid.shape[0]))\n",
        "    plt.title(layer_name)\n",
        "    plt.grid(False)\n",
        "    plt.imshow(display_grid, aspect='auto', cmap='viridis')"
      ],
      "execution_count": null,
      "outputs": []
    },
    {
      "cell_type": "code",
      "metadata": {
        "id": "rJOU-2uyVLHX",
        "colab_type": "code",
        "colab": {}
      },
      "source": [
        "# Передав матрицу значений изображения методу model.predict() можно получить результат идентификации модели.\n",
        "\n",
        "# Диаграмма результата идентификации\n",
        "res = model.predict(tensor_img)[0]\n",
        "# for p in res:\n",
        "#   print(p)\n",
        "import numpy as np\n",
        "import matplotlib.pyplot as plt\n",
        "x =  np.arange(1, 52)\n",
        "y = res\n",
        "fig, ax = plt.subplots()\n",
        "ax.bar(x, y)\n",
        "plt.xticks(np.arange(0, 50, step=1.0))\n",
        "\n",
        "# ax.set_facecolor('seashell')\n",
        "fig.set_facecolor('floralwhite')\n",
        "fig.set_figwidth(20)    #  ширина Figure\n",
        "fig.set_figheight(4)    #  высота Figure\n",
        "plt.show()"
      ],
      "execution_count": null,
      "outputs": []
    },
    {
      "cell_type": "code",
      "metadata": {
        "id": "7T0X6OhxZVsV",
        "colab_type": "code",
        "colab": {}
      },
      "source": [
        "# Идентификация первого изображения из списка fnames\n",
        "img_path = fnames[0]\n",
        "print(fnames)\n",
        "img = image.load_img(img_path,target_size = target_size)\n",
        "img_tensor = image.img_to_array(img)\n",
        "img_tensor = np.expand_dims(img_tensor, axis = 0 )\n",
        "img_tensor /= 255.\n",
        "plt.imshow(img_tensor[0])\n",
        "model.predict(img_tensor[0])\n",
        "plt.show "
      ],
      "execution_count": null,
      "outputs": []
    },
    {
      "cell_type": "code",
      "metadata": {
        "id": "0kdan2APYr8Q",
        "colab_type": "code",
        "colab": {}
      },
      "source": [
        "# Результат идентификации изображений для 100 экземпляров\n",
        "count = 0\n",
        "for batch in empty_generator:\n",
        "  if count>=100:\n",
        "      break\n",
        "  fig, axes = plt.subplots( 5, 10)\n",
        "  i=0\n",
        "  rows = len(axes)\n",
        "  cols = len(axes[0])\n",
        "  for row in range(len(axes)):\n",
        "    for col in range(len(axes[0])):\n",
        "      tensor_img = batch[0][i]\n",
        "      axes[row][col].imshow(tensor_img,cmap='gray')\n",
        "      axes[row][col].set_axis_off()\n",
        "      i+=1\n",
        "      count+=1\n",
        "  fig.set_figwidth(40)    #  ширина и\n",
        "  fig.set_figheight(2*rows)  \n",
        "  plt.show()"
      ],
      "execution_count": null,
      "outputs": []
    }
  ]
}