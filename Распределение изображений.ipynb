{
 "cells": [
  {
   "cell_type": "code",
   "execution_count": null,
   "metadata": {},
   "outputs": [],
   "source": [
    "import os\n",
    "import shutil\n",
    "\n",
    "data_dir = './data' # Целевой каталог\n",
    "    dataset = 'SigComp2011/'\n",
    "    count_classes = 50\n",
    "    os.mkdir(data_dir)\n",
    "\n",
    "    #Каталоги для обучающего, проверочного и контрольного набора\n",
    "    train_dir = os.path.join(data_dir,'train')\n",
    "    os.mkdir(train_dir)\n",
    "    validation_dir = os.path.join(data_dir,'validation')\n",
    "    os.mkdir(validation_dir)\n",
    "    test_dir = os.path.join(data_dir,'test')\n",
    "    os.mkdir(test_dir)\n",
    "    \n",
    "    for i in range(1,count_classes+1):\n",
    "    classes_train = os.path.join(train_dir,str(i))\n",
    "    os.mkdir(classes_train)\n",
    "    classes_validation = os.path.join(validation_dir,str(i))\n",
    "    os.mkdir(classes_validation)\n",
    "    classes_test = os.path.join(test_dir,str(i))\n",
    "    os.mkdir(classes_test)\n",
    "    \n",
    "    i = 1\n",
    "# Проход по всем классам\n",
    "for class_number in os.listdir(dataset):\n",
    "    # Подкаталог с образцами подписей\n",
    "    subdir = os.path.join(dataset,class_number)\n",
    "    # Кол-во подписей в подкаталоге\n",
    "    lenght = len(os.listdir(subdir))\n",
    "    \n",
    "    # Копирование 60% в папку data/{subdir}/train\n",
    "    index_train = int(lenght * 0.6)\n",
    "    for imgfile_for_train in os.listdir(subdir)[:index_train]:\n",
    "        src = os.path.join(subdir,imgfile_for_train)\n",
    "        dst = os.path.join(train_dir,str(i),imgfile_for_train)\n",
    "        shutil.copyfile(src,dst)\n",
    "    \n",
    "    # Копирование 20% в папку data/{subdir}/validation\n",
    "    index_val = int(lenght * 0.8)\n",
    "    for imgfile_for_val in os.listdir(subdir)[index_train:index_val]:\n",
    "        src = os.path.join(subdir,imgfile_for_val)\n",
    "        dst = os.path.join(validation_dir,str(i),imgfile_for_val)\n",
    "        shutil.copyfile(src,dst)\n",
    "    \n",
    "    # Копирование 20% в папку data/{subdir}/test\n",
    "    for imgfile_for_test in os.listdir(subdir)[index_validation:]:\n",
    "        src = os.path.join(subdir,imgfile_for_test)\n",
    "        dst = os.path.join(test_dir,str(i),imgfile_for_test)\n",
    "        shutil.copyfile(src,dst)\n",
    "    i+=1\n",
    "    if (i > count_classes):\n",
    "        break"
   ]
  }
 ],
 "metadata": {
  "kernelspec": {
   "display_name": "Python 3",
   "language": "python",
   "name": "python3"
  },
  "language_info": {
   "codemirror_mode": {
    "name": "ipython",
    "version": 3
   },
   "file_extension": ".py",
   "mimetype": "text/x-python",
   "name": "python",
   "nbconvert_exporter": "python",
   "pygments_lexer": "ipython3",
   "version": "3.7.6"
  }
 },
 "nbformat": 4,
 "nbformat_minor": 4
}
