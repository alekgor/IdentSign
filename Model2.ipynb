{
  "nbformat": 4,
  "nbformat_minor": 0,
  "metadata": {
    "colab": {
      "name": "Model2.ipynb",
      "provenance": [],
      "collapsed_sections": []
    },
    "kernelspec": {
      "name": "python3",
      "display_name": "Python 3"
    }
  },
  "cells": [
    {
      "cell_type": "code",
      "metadata": {
        "id": "1nw_gOWTbDw6",
        "colab_type": "code",
        "colab": {}
      },
      "source": [
        "# Подключение и монтирование диска в GoogleColab\n",
        "from google.colab import drive\n",
        "drive.mount('/content/drive/')\n",
        "\n",
        "import os\n",
        "os.chdir(\"/content/drive/My Drive/Signature\")\n",
        "\n",
        "\n",
        "os.environ[\"CUDA_DEVICE_ORDER\"]=\"PCI_BUS_ID\"\n",
        "os.environ[\"CUDA_VISIBLE_DEVICES\"]=\"0\"\n",
        "from tensorflow.python.client import device_lib"
      ],
      "execution_count": null,
      "outputs": []
    },
    {
      "cell_type": "code",
      "metadata": {
        "id": "4mFuJe44bsWR",
        "colab_type": "code",
        "colab": {}
      },
      "source": [
        "# Импорт необходимых библиотек \n",
        "from keras.preprocessing.image import ImageDataGenerator\n",
        "from keras import models\n",
        "from keras import layers\n",
        "import PIL\n",
        "import matplotlib.pyplot as plt\n",
        "import numpy as np\n",
        "import tensorflow as tf\n",
        "import skimage"
      ],
      "execution_count": null,
      "outputs": []
    },
    {
      "cell_type": "code",
      "metadata": {
        "id": "01QWoA6Absw4",
        "colab_type": "code",
        "colab": {}
      },
      "source": [
        "# Глобальные переменные \n",
        "train_dir = 'data/train'\n",
        "val_dir = 'data/val'\n",
        "test_dir = 'data/test'\n",
        "img_width = 200\n",
        "img_height = 100\n",
        "input_shape = (img_height,img_width,3)\n",
        "batch_size = 50\n",
        "target_size =  (img_height,img_width)"
      ],
      "execution_count": null,
      "outputs": []
    },
    {
      "cell_type": "code",
      "metadata": {
        "id": "ieXLvtr0b1fa",
        "colab_type": "code",
        "colab": {}
      },
      "source": [
        "from keras.applications import VGG16\n",
        "conv_base = VGG16(weights = 'imagenet',\n",
        "                  include_top = False,\n",
        "                  input_shape = input_shape)"
      ],
      "execution_count": null,
      "outputs": []
    },
    {
      "cell_type": "code",
      "metadata": {
        "id": "m2Elnp4jb3z2",
        "colab_type": "code",
        "colab": {}
      },
      "source": [
        "model = models.Sequential()\n",
        "model.add(conv_base)\n",
        "# До бавление нового классификатора\n",
        "model.add(layers.Flatten())\n",
        "model.add(layers.Dense(1024,activation='relu'))\n",
        "model.add(layers.Dense(50,activation='softmax'))\n",
        "# Фиксирование свёрточной основы\n",
        "conv_base.trainable= False "
      ],
      "execution_count": null,
      "outputs": []
    },
    {
      "cell_type": "code",
      "metadata": {
        "id": "wzB2oNPTb6Ow",
        "colab_type": "code",
        "colab": {}
      },
      "source": [
        "# Компиляция модели\n",
        "model.compile(optimizer='rmsprop', # Алгоритм обратного распространения ошибки\n",
        "             loss='categorical_crossentropy', # Функция потерь - перекрестная энтропия\n",
        "             metrics = ['accuracy'])"
      ],
      "execution_count": null,
      "outputs": []
    },
    {
      "cell_type": "code",
      "metadata": {
        "id": "CUKDl03HcCfz",
        "colab_type": "code",
        "colab": {}
      },
      "source": [
        "# Функция предобработки\n",
        "def function(image):\n",
        "  #отсечение фона\n",
        "  image[:][np.mean(image[:][:],axis=2)>240] = 255\n",
        "  return image"
      ],
      "execution_count": null,
      "outputs": []
    },
    {
      "cell_type": "code",
      "metadata": {
        "id": "kuryu4BFcOZq",
        "colab_type": "code",
        "colab": {}
      },
      "source": [
        "# Датагены для обучения и проверки \n",
        "train_datagen = ImageDataGenerator(\n",
        "                                  rescale=1. / 255, # Масштабирование\n",
        "                                  rotation_range = 5, # Поворот\n",
        "                                  zoom_range=[1.3, 1.4],                                                                   \n",
        "                                  width_shift_range= [0,20], # Сдвиг по горизонтали \n",
        "                                  height_shift_range= [0,10], # Сдвиг по вертикали \n",
        "                                  preprocessing_function = function, # Функция предобработки\n",
        "                                  cval = 255.0, # Значения заполнения\n",
        "                                  fill_mode = 'constant' # Метод заполнения\n",
        "                                   )\n",
        "test_datagen = ImageDataGenerator(\n",
        "                                  rescale=1. / 255,  \n",
        "                                  zoom_range=[1.35, 1.35],\n",
        "                                  preprocessing_function = function,\n",
        "                                  cval = 255.0,\n",
        "                                  fill_mode = 'constant'\n",
        "                                   )"
      ],
      "execution_count": null,
      "outputs": []
    },
    {
      "cell_type": "code",
      "metadata": {
        "id": "LqprCAV8cQ6c",
        "colab_type": "code",
        "colab": {}
      },
      "source": [
        "# Генераторы для обученя, проверки, и тестирования\n",
        "train_generator = train_datagen.flow_from_directory(\n",
        "    train_dir, \n",
        "    target_size = target_size,\n",
        "    batch_size = batch_size,\n",
        "    color_mode=\"grayscale\", # Вид изображения \n",
        "    class_mode='categorical') \n",
        "\n",
        "val_generator = test_datagen.flow_from_directory( \n",
        "    val_dir,\n",
        "    target_size = target_size,\n",
        "    batch_size = batch_size,\n",
        "    color_mode=\"grayscale\",\n",
        "    class_mode='categorical')\n",
        "\n",
        "test_generator = test_datagen.flow_from_directory(\n",
        "    test_dir,\n",
        "    target_size = target_size,\n",
        "    batch_size = batch_size,\n",
        "    color_mode=\"grayscale\",\n",
        "    class_mode='categorical',\n",
        "    )"
      ],
      "execution_count": null,
      "outputs": []
    },
    {
      "cell_type": "code",
      "metadata": {
        "id": "Ipn7ol_3cUd3",
        "colab_type": "code",
        "colab": {}
      },
      "source": [
        "# Метод для преждевременной остановки обучения\n",
        "from  keras.callbacks import Callback\n",
        "class EarlyStoppingByAccuracy(Callback):\n",
        "    def __init__(self, monitor='accuracy', value=1.00, verbose=0):\n",
        "        super(Callback, self).__init__()\n",
        "        self.monitor = monitor\n",
        "        self.value = value\n",
        "        self.verbose = verbose\n",
        "    def on_epoch_end(self, epoch, logs={}):\n",
        "      current = logs.get(self.monitor)\n",
        "      if current is None:\n",
        "          warnings.warn(\"Early stopping requires %s available!\" % self.monitor, RuntimeWarning)\n",
        "\n",
        "      if current >= self.value:\n",
        "          if self.verbose > 0:\n",
        "              print(\"Epoch %05d: early stopping THR\" % epoch)\n",
        "          self.model.stop_training = True\n",
        "\n",
        "# Обучение модели\n",
        "from PIL import  Image\n",
        "import keras.callbacks\n",
        "history = model.fit_generator(\n",
        "    train_generator,\n",
        "    callbacks = [ EarlyStoppingByAccuracy(monitor='val_accuracy', value=0.99, verbose=2)],\n",
        "    steps_per_epoch = 500 // batch_size,\n",
        "    epochs=50,\n",
        "    validation_data= val_generator,\n",
        "    validation_steps = 5)"
      ],
      "execution_count": null,
      "outputs": []
    },
    {
      "cell_type": "code",
      "metadata": {
        "id": "E3LiYgrKcjQ_",
        "colab_type": "code",
        "colab": {}
      },
      "source": [
        "# Графики процесса обучения\n",
        "plt.style.use('ggplot')\n",
        "def plot_history(history):\n",
        "    acc = history.history['accuracy']\n",
        "    val_acc = history.history['val_accuracy']\n",
        "    loss = history.history['loss']\n",
        "    val_loss = history.history['val_loss']\n",
        "    x = range(1, len(acc) + 1)\n",
        "\n",
        "    plt.figure(figsize=(12, 4))\n",
        "    plt.subplot(1, 2, 1)\n",
        "    plt.plot(x, (acc), 'b', label='Точность на тренировочном наборе')\n",
        "    plt.plot(x, (val_acc), 'r', label='Точность на валидационном наборе')\n",
        "    plt.title('Тренировочная и валидационная точность')\n",
        "    plt.legend()\n",
        "    plt.subplot(1, 2, 2)\n",
        "    plt.plot(x, (loss), 'b', label='Потери при обучении')\n",
        "    plt.plot(x, (val_loss), 'r', label='Потери при валидации')\n",
        "    plt.title('Тренировочные и валидационные потери')\n",
        "    plt.legend()\n",
        "plot_history(history)    \n",
        "#Точность на тестовых \n",
        "scores = model.evaluate_generator(test_generator, 100//20)\n",
        "print(\"Аккуратность на тестовых данных: %.2f%%\" % (scores[1]*100))"
      ],
      "execution_count": null,
      "outputs": []
    },
    {
      "cell_type": "code",
      "metadata": {
        "id": "aNaYVchKcpS9",
        "colab_type": "code",
        "colab": {}
      },
      "source": [
        "# Метод mypredict для идентификации подписи\n",
        "def mypredict(img_path):\n",
        "  img = image.load_img(img_path,target_size = target_size)\n",
        "  x = image.img_to_array(img)\n",
        "  x = x.reshape((1,) + x.shape)\n",
        "  i = 0 \n",
        "  for batch in preproc_datagen.flow(x,batch_size=1):\n",
        "    imgplot = plt.imshow(image.array_to_img(batch[0]),cmap = 'Greys')\n",
        "    print(\"Точность: \"+str(model.predict(batch).max()))\n",
        "    print(\"Класс: \"+str(model.predict_classes(batch)))\n",
        "    \n",
        "    i += 1\n",
        "    if i%1==0:\n",
        "      break\n",
        "  plt.show\n",
        "\n",
        "mypredict(fnames[1])"
      ],
      "execution_count": null,
      "outputs": []
    }
  ]
}